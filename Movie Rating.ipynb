{
 "cells": [
  {
   "cell_type": "markdown",
   "metadata": {},
   "source": [
    "### Training Data"
   ]
  },
  {
   "cell_type": "code",
   "execution_count": 1,
   "metadata": {},
   "outputs": [],
   "source": [
    "import pandas as pd\n",
    "import numpy as np"
   ]
  },
  {
   "cell_type": "code",
   "execution_count": 2,
   "metadata": {},
   "outputs": [],
   "source": [
    "dfx = pd.read_csv(\"datasets/imdb_trainX.txt\",sep = \"\\n\",header = None)\n",
    "dfy = pd.read_csv(\"datasets/imdb_trainY.txt\",sep = \"\\n\",header = None)"
   ]
  },
  {
   "cell_type": "code",
   "execution_count": 3,
   "metadata": {},
   "outputs": [
    {
     "name": "stdout",
     "output_type": "stream",
     "text": [
      "(25000, 1) (25000, 1)\n"
     ]
    }
   ],
   "source": [
    "x = dfx.values\n",
    "y = dfy.values\n",
    "print(x.shape,y.shape)"
   ]
  },
  {
   "cell_type": "code",
   "execution_count": 4,
   "metadata": {},
   "outputs": [
    {
     "name": "stdout",
     "output_type": "stream",
     "text": [
      "(25000,) (25000,)\n"
     ]
    }
   ],
   "source": [
    "x = x.reshape(-1)\n",
    "y = y.reshape(-1)\n",
    "print(x.shape,y.shape)"
   ]
  },
  {
   "cell_type": "code",
   "execution_count": 5,
   "metadata": {},
   "outputs": [],
   "source": [
    "import clearData as cd"
   ]
  },
  {
   "cell_type": "code",
   "execution_count": 6,
   "metadata": {},
   "outputs": [],
   "source": [
    "xClean = [cd.getCleanReview(i) for i in x]"
   ]
  },
  {
   "cell_type": "code",
   "execution_count": 7,
   "metadata": {},
   "outputs": [],
   "source": [
    "yClean = y\n",
    "\n",
    "#for i in y:\n",
    " #   if(i > 5):\n",
    "   #     yClean.append(1)\n",
    "  #  else:\n",
    "    #    yClean.append(0)"
   ]
  },
  {
   "cell_type": "code",
   "execution_count": 8,
   "metadata": {},
   "outputs": [],
   "source": [
    "import random"
   ]
  },
  {
   "cell_type": "code",
   "execution_count": 9,
   "metadata": {},
   "outputs": [],
   "source": [
    "combined = list(zip(xClean,yClean))\n",
    "random.shuffle(combined)\n",
    "\n",
    "xClean[:],yClean[:] = zip(*combined)"
   ]
  },
  {
   "cell_type": "code",
   "execution_count": 10,
   "metadata": {},
   "outputs": [],
   "source": [
    "xClean = xClean[:1000]\n",
    "yClean = yClean[:1000]"
   ]
  },
  {
   "cell_type": "markdown",
   "metadata": {},
   "source": [
    "### Test Data"
   ]
  },
  {
   "cell_type": "code",
   "execution_count": 30,
   "metadata": {},
   "outputs": [],
   "source": [
    "tfx = pd.read_csv(\"datasets/imdb_testX.txt\",sep = \"\\n\",header = None)\n",
    "tfy = pd.read_csv(\"datasets/imdb_testY.txt\",sep = \"\\n\",header = None)"
   ]
  },
  {
   "cell_type": "code",
   "execution_count": 12,
   "metadata": {},
   "outputs": [
    {
     "name": "stdout",
     "output_type": "stream",
     "text": [
      "(25000, 1) (25000, 1)\n"
     ]
    }
   ],
   "source": [
    "tx = tfx.values\n",
    "ty = tfy.values\n",
    "print(tx.shape,ty.shape)"
   ]
  },
  {
   "cell_type": "code",
   "execution_count": 13,
   "metadata": {},
   "outputs": [
    {
     "name": "stdout",
     "output_type": "stream",
     "text": [
      "(25000,) (25000,)\n"
     ]
    }
   ],
   "source": [
    "tx = tx.reshape(-1)\n",
    "ty = ty.reshape(-1)\n",
    "print(tx.shape,ty.shape)"
   ]
  },
  {
   "cell_type": "code",
   "execution_count": 14,
   "metadata": {},
   "outputs": [],
   "source": [
    "xTestClean = [cd.getCleanReview(i) for i in tx]"
   ]
  },
  {
   "cell_type": "code",
   "execution_count": 15,
   "metadata": {},
   "outputs": [],
   "source": [
    "yTestClean = ty\n",
    "\n",
    "#for i in ty:\n",
    " #   if(i > 5):\n",
    "  #      yTestClean.append(1)\n",
    "   # else:\n",
    "    #    yTestClean.append(0)"
   ]
  },
  {
   "cell_type": "code",
   "execution_count": 16,
   "metadata": {},
   "outputs": [],
   "source": [
    "combined = list(zip(xTestClean,yTestClean))\n",
    "random.shuffle(combined)\n",
    "\n",
    "xTestClean[:],yTestClean[:] = zip(*combined)"
   ]
  },
  {
   "cell_type": "code",
   "execution_count": 17,
   "metadata": {},
   "outputs": [],
   "source": [
    "xTestClean = xTestClean[:1000]\n",
    "yTestClean = yTestClean[:1000]"
   ]
  },
  {
   "cell_type": "markdown",
   "metadata": {},
   "source": [
    "## Predicting"
   ]
  },
  {
   "cell_type": "code",
   "execution_count": 18,
   "metadata": {},
   "outputs": [],
   "source": [
    "from sklearn.feature_extraction.text import CountVectorizer"
   ]
  },
  {
   "cell_type": "code",
   "execution_count": 19,
   "metadata": {},
   "outputs": [
    {
     "name": "stdout",
     "output_type": "stream",
     "text": [
      "[[0 0 0 ... 0 0 0]\n",
      " [0 0 0 ... 0 0 0]\n",
      " [0 0 0 ... 0 0 0]\n",
      " ...\n",
      " [0 0 0 ... 0 0 0]\n",
      " [0 0 0 ... 0 0 0]\n",
      " [0 0 0 ... 0 0 0]] (1000, 109469)\n"
     ]
    }
   ],
   "source": [
    "cv = CountVectorizer(ngram_range=(1,2))\n",
    "xVec = cv.fit_transform(xClean).toarray()\n",
    "#print(cv.get_feature_names())\n",
    "print(xVec,xVec.shape)"
   ]
  },
  {
   "cell_type": "code",
   "execution_count": 20,
   "metadata": {},
   "outputs": [],
   "source": [
    "from sklearn.naive_bayes import MultinomialNB, BernoulliNB, GaussianNB"
   ]
  },
  {
   "cell_type": "code",
   "execution_count": 21,
   "metadata": {},
   "outputs": [],
   "source": [
    "mnb = MultinomialNB()\n",
    "bnb = BernoulliNB()\n",
    "gnb = GaussianNB()"
   ]
  },
  {
   "cell_type": "code",
   "execution_count": 22,
   "metadata": {},
   "outputs": [
    {
     "data": {
      "text/plain": [
       "GaussianNB(priors=None, var_smoothing=1e-09)"
      ]
     },
     "execution_count": 22,
     "metadata": {},
     "output_type": "execute_result"
    }
   ],
   "source": [
    "gnb.fit(xVec,yClean)"
   ]
  },
  {
   "cell_type": "code",
   "execution_count": 23,
   "metadata": {},
   "outputs": [
    {
     "name": "stdout",
     "output_type": "stream",
     "text": [
      "[[0 0 0 ... 0 0 0]\n",
      " [0 0 0 ... 0 0 0]\n",
      " [0 0 0 ... 0 0 0]\n",
      " ...\n",
      " [0 0 0 ... 0 0 0]\n",
      " [0 0 0 ... 0 0 0]\n",
      " [0 0 0 ... 0 0 0]] (1000, 109469)\n"
     ]
    }
   ],
   "source": [
    "#xtVec = cv.transform(test_clean).toarray()\n",
    "xtVec = cv.transform(xTestClean).toarray()\n",
    "print(xtVec,xtVec.shape)"
   ]
  },
  {
   "cell_type": "code",
   "execution_count": 24,
   "metadata": {},
   "outputs": [
    {
     "name": "stdout",
     "output_type": "stream",
     "text": [
      "[ 1 10 10  2  7  9 10  8 10  1  7  1 10  2  9 10  3  7  3  8 10 10  8  3\n",
      " 10  8  7  8  1  1  8  2  7 10  2 10  7  4  4  8  7  8  3 10  1  4  9  8\n",
      "  2  7  3  9  1  1  3  4  3 10  2  8  8  1  4  1  4  1  1  4 10 10  3  8\n",
      " 10  2 10  7  8  2 10  4 10  8  2  3 10 10  7  4  9  9  9  3  9  8  3  1\n",
      "  8  9  9  7  7  9  7  9  8  1  4  2 10  7  1  8  2 10  3  2  2  3  4  1\n",
      "  7  1  1  4 10  1 10  4 10  2 10  3  9  3  3 10  1 10  2  9 10  7  1 10\n",
      "  8  9  8  1  4  2  1  7  8  2  2  1  7  7  9  3  7  8 10  4  3  7  4  1\n",
      "  3  4  7  4  2  3  4  2  1  1  4  7  1  1 10  1  9 10  8  4  2 10  9  9\n",
      "  3 10  9 10  1  9 10  1]\n",
      "[ 1  8 10  1  4  1  4 10  8  1  8  1 10  1  8 10  1  4  8  7 10 10  1  8\n",
      "  8  1  1  8  1  1  8 10  1  8  4  3  8  1  1  8  9  4  1 10  1  8  1  8\n",
      "  1  8  9 10  1  1  8  1  1 10  4 10  1  1  8  1  2  8  7  8  7 10  1  1\n",
      " 10  1  9  8  1 10  2  1  1  7  2  9  8 10 10  1 10  1  1  1 10 10 10  1\n",
      "  7 10  3  8  8  1  7 10  7  1  1  3  9 10  1 10  1 10  1  1  1  1  1  1\n",
      "  8  1  1  8  7  8  7  8 10  1 10  8 10  1  1  8  8  1  7  1  8  8  3  1\n",
      " 10  1  1  1  1  4  1  3  1  8 10 10 10  1  9  1  9 10  1  7  2  4  1  1\n",
      "  1  1  1 10  1 10  8  1  1  3  3  9  1  8 10  1  9  3  1  1  1 10  8  1\n",
      "  8  8  4 10  1  8 10  1]\n"
     ]
    }
   ],
   "source": [
    "yPredicted = gnb.predict(xtVec)\n",
    "print(yTestClean[:200])\n",
    "print(yPredicted[:200])\n",
    "#print(mnb.predict_proba(xtVec))"
   ]
  },
  {
   "cell_type": "code",
   "execution_count": 25,
   "metadata": {},
   "outputs": [
    {
     "data": {
      "text/plain": [
       "1.0"
      ]
     },
     "execution_count": 25,
     "metadata": {},
     "output_type": "execute_result"
    }
   ],
   "source": [
    "gnb.score(xVec,yClean)"
   ]
  },
  {
   "cell_type": "markdown",
   "metadata": {},
   "source": [
    "### Confusion Matrix"
   ]
  },
  {
   "cell_type": "code",
   "execution_count": 26,
   "metadata": {},
   "outputs": [],
   "source": [
    "from sklearn.metrics import confusion_matrix\n",
    "from matplotlib import pyplot as plt"
   ]
  },
  {
   "cell_type": "code",
   "execution_count": 27,
   "metadata": {},
   "outputs": [
    {
     "name": "stdout",
     "output_type": "stream",
     "text": [
      "[[135  58  58  48  25  28  39  50]\n",
      " [  0   3   4   7   1   0   1   3]\n",
      " [  8   4   2  12   5   5   4   6]\n",
      " [ 10  12   8   1   9   7   3   9]\n",
      " [  1   2   1   2   8   8   3   9]\n",
      " [ 17   7  12  19  18  30  24  47]\n",
      " [  3   1   4   2   4   5   9  10]\n",
      " [ 15   9  10   9  11  38  25  72]]\n"
     ]
    }
   ],
   "source": [
    "cnf = confusion_matrix(yPredicted,yTestClean)\n",
    "print(cnf)"
   ]
  },
  {
   "cell_type": "code",
   "execution_count": 28,
   "metadata": {},
   "outputs": [],
   "source": [
    "\"\"\"Use this method directly - \"\"\"\n",
    "import itertools\n",
    "def plot_confusion_matrix(cm, classes,\n",
    "                          normalize=False,\n",
    "                          title='Confusion matrix',\n",
    "                          cmap=plt.cm.Blues):\n",
    "    \"\"\"\n",
    "    This function prints and plots the confusion matrix.\n",
    "    Normalization can be applied by setting `normalize=True`.\n",
    "    \"\"\"\n",
    "    if normalize:\n",
    "        cm = cm.astype('float') / cm.sum(axis=1)[:, np.newaxis]\n",
    "        print(\"Normalized confusion matrix\")\n",
    "    else:\n",
    "        print('Confusion matrix, without normalization')\n",
    "\n",
    "    print(cm)\n",
    "\n",
    "    plt.imshow(cm, interpolation='nearest', cmap=cmap)\n",
    "    plt.title(title)\n",
    "    plt.colorbar()\n",
    "    tick_marks = np.arange(len(classes))\n",
    "    plt.xticks(tick_marks, classes, rotation=45)\n",
    "    plt.yticks(tick_marks, classes)\n",
    "\n",
    "    fmt = '.2f' if normalize else 'd'\n",
    "    thresh = cm.max() / 2.\n",
    "    for i, j in itertools.product(range(cm.shape[0]), range(cm.shape[1])):\n",
    "        plt.text(j, i, format(cm[i, j], fmt),\n",
    "                 horizontalalignment=\"center\",\n",
    "                 color=\"white\" if cm[i, j] > thresh else \"black\")\n",
    "\n",
    "    plt.ylabel('True label')\n",
    "    plt.xlabel('Predicted label')\n",
    "    plt.tight_layout()"
   ]
  },
  {
   "cell_type": "code",
   "execution_count": 29,
   "metadata": {},
   "outputs": [
    {
     "name": "stdout",
     "output_type": "stream",
     "text": [
      "Confusion matrix, without normalization\n",
      "[[135  58  58  48  25  28  39  50]\n",
      " [  0   3   4   7   1   0   1   3]\n",
      " [  8   4   2  12   5   5   4   6]\n",
      " [ 10  12   8   1   9   7   3   9]\n",
      " [  1   2   1   2   8   8   3   9]\n",
      " [ 17   7  12  19  18  30  24  47]\n",
      " [  3   1   4   2   4   5   9  10]\n",
      " [ 15   9  10   9  11  38  25  72]]\n"
     ]
    },
    {
     "data": {
      "image/png": "[encoded data removed]",
      "text/plain": [
       "<Figure size 432x288 with 2 Axes>"
      ]
     },
     "metadata": {
      "needs_background": "light"
     },
     "output_type": "display_data"
    }
   ],
   "source": [
    "plot_confusion_matrix(cnf, [1,2,3,4,5,6,7,8],normalize=False,title='Confusion matrix',cmap=plt.cm.Blues)"
   ]
  },
  {
   "cell_type": "code",
   "execution_count": null,
   "metadata": {},
   "outputs": [],
   "source": []
  },
  {
   "cell_type": "code",
   "execution_count": null,
   "metadata": {},
   "outputs": [],
   "source": []
  }
 ],
 "metadata": {
  "kernelspec": {
   "display_name": "Python 3",
   "language": "python",
   "name": "python3"
  },
  "language_info": {
   "codemirror_mode": {
    "name": "ipython",
    "version": 3
   },
   "file_extension": ".py",
   "mimetype": "text/x-python",
   "name": "python",
   "nbconvert_exporter": "python",
   "pygments_lexer": "ipython3",
   "version": "3.6.8"
  }
 },
 "nbformat": 4,
 "nbformat_minor": 2
}
